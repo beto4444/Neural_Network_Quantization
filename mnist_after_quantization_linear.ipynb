{
 "cells": [
  {
   "cell_type": "code",
   "execution_count": null,
   "metadata": {},
   "outputs": [],
   "source": [
    "import tensorflow as tf\n",
    "from tensorflow.keras.models import Sequential\n",
    "from tensorflow.keras.layers import Flatten, Dense\n",
    "from qkeras import QDense, quantized_bits, QActivation\n"
   ]
  },
  {
   "cell_type": "code",
   "execution_count": null,
   "metadata": {},
   "outputs": [],
   "source": [
    "# Definicja modelu, wzór\n",
    "model = Sequential([\n",
    "    Flatten(input_shape=(28, 28)),\n",
    "    Dense(200, activation='sigmoid'),\n",
    "    Dense(80, activation='sigmoid'),\n",
    "    Dense(10, activation='sigmoid')\n",
    "])"
   ]
  },
  {
   "cell_type": "code",
   "execution_count": null,
   "metadata": {},
   "outputs": [],
   "source": [
    "from tensorflow.keras.datasets import mnist\n",
    "\n",
    "# Pobieranie danych MNIST\n",
    "(X_train, y_train), (X_test, y_test) = mnist.load_data()\n",
    "\n",
    "\n",
    "\n",
    "# Sprawdzenie kształtów danych\n",
    "print(\"Kształt X_train:\", X_train.shape)\n",
    "print(\"Kształt y_train:\", y_train.shape)\n",
    "print(\"Kształt X_test:\", X_test.shape)\n",
    "print(\"Kształt y_test:\", y_test.shape)\n"
   ]
  },
  {
   "cell_type": "code",
   "execution_count": null,
   "metadata": {},
   "outputs": [],
   "source": [
    "model = Sequential([\n",
    "    Flatten(input_shape=(28, 28)),\n",
    "    Dense(200, activation='sigmoid'),\n",
    "    Dense(80, activation='sigmoid'),\n",
    "    Dense(10, activation='sigmoid')\n",
    "])\n"
   ]
  },
  {
   "cell_type": "code",
   "execution_count": null,
   "metadata": {},
   "outputs": [],
   "source": [
    "model.compile(optimizer='adam', loss='sparse_categorical_crossentropy', metrics=['accuracy'])\n",
    "model.fit(X_train, y_train, epochs=3, validation_data=(X_test, y_test))"
   ]
  },
  {
   "cell_type": "markdown",
   "metadata": {},
   "source": [
    "Analizujemy kolejne stopnie kwantyzacji, każdy po 5 razy żeby można było policzyć statystykę. Za każdym razem na nowo losujemy podział train_test_split"
   ]
  },
  {
   "cell_type": "code",
   "execution_count": null,
   "metadata": {},
   "outputs": [],
   "source": [
    "import numpy as np\n",
    "from sklearn.model_selection import train_test_split\n",
    "acc = np.zeros((8, 5))\n",
    "for j in range(0, 5):\n",
    "    #robimy tak bo zbiór z tensorflow jest domyślnie podzielony na test i train, a my chcemy to podzielić losowo\n",
    "    X_full = np.concatenate((X_train, X_test))\n",
    "    y_full = np.concatenate((y_train, y_test))\n",
    "\n",
    "    X_train, X_test, y_train, y_test = train_test_split(X_full, y_full, test_size=0.2)\n",
    "    for i in range (1, 9):\n",
    "        q_bits = i\n",
    "        q_model = Sequential([\n",
    "            Flatten(input_shape=(28, 28)),\n",
    "            QDense(200, input_shape=(28*28,), activation='sigmoid', \n",
    "                kernel_quantizer=quantized_bits(q_bits, 0, 1), \n",
    "                bias_quantizer=quantized_bits(q_bits, 0, 1)),\n",
    "            QDense(80, activation='sigmoid', \n",
    "                kernel_quantizer=quantized_bits(q_bits, 0, 1), \n",
    "                bias_quantizer=quantized_bits(q_bits, 0, 1)),\n",
    "            QDense(10, activation='sigmoid', \n",
    "                kernel_quantizer=quantized_bits(q_bits, 0, 1), \n",
    "                bias_quantizer=quantized_bits(q_bits, 0, 1))\n",
    "        ])\n",
    "\n",
    "        q_model.compile(optimizer='adam', loss='sparse_categorical_crossentropy', metrics=['accuracy'])\n",
    "        q_model.fit(X_train, y_train, epochs=3, validation_data=(X_test, y_test))\n",
    "        acc[i-1, j] = q_model.evaluate(X_test, y_test, verbose=0)[1]\n",
    "        print(acc[i-1, j])"
   ]
  },
  {
   "cell_type": "code",
   "execution_count": null,
   "metadata": {},
   "outputs": [],
   "source": []
  }
 ],
 "metadata": {
  "kernelspec": {
   "display_name": "Python 3",
   "language": "python",
   "name": "python3"
  },
  "language_info": {
   "codemirror_mode": {
    "name": "ipython",
    "version": 3
   },
   "file_extension": ".py",
   "mimetype": "text/x-python",
   "name": "python",
   "nbconvert_exporter": "python",
   "pygments_lexer": "ipython3",
   "version": "3.10.12"
  }
 },
 "nbformat": 4,
 "nbformat_minor": 2
}
