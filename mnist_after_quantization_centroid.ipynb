{
 "cells": [
  {
   "cell_type": "code",
   "execution_count": 24,
   "metadata": {},
   "outputs": [],
   "source": [
    "from tensorflow.keras.datasets import mnist\n",
    "from tensorflow.keras.models import Sequential\n",
    "from tensorflow.keras.layers import Dense, Flatten\n",
    "from tensorflow.keras.utils import to_categorical\n",
    "from sklearn.cluster import KMeans\n",
    "import numpy as np"
   ]
  },
  {
   "cell_type": "code",
   "execution_count": 32,
   "metadata": {},
   "outputs": [],
   "source": [
    "(X_train, y_train), (X_test, y_test) = mnist.load_data()\n",
    "y_train, y_test = to_categorical(y_train, 10), to_categorical(y_test, 10)\n"
   ]
  },
  {
   "cell_type": "markdown",
   "metadata": {},
   "source": [
    "Tutaj metodologia jest zupełnie inna ponieważ QKeras nie obsługuje kwantyzacji za pomocą metody centroidów i musiałem zrobić własną implementację"
   ]
  },
  {
   "cell_type": "code",
   "execution_count": 26,
   "metadata": {},
   "outputs": [],
   "source": [
    "def quantize_weights(model, n_clusters=16):\n",
    "    for layer in model.layers:\n",
    "        if 'dense' in layer.name:\n",
    "            weights, biases = layer.get_weights()\n",
    "            # Kwantyzacja wag\n",
    "            kmeans = KMeans(n_clusters=n_clusters, n_init=10)\n",
    "            flat_weights = weights.reshape((-1, 1))\n",
    "            kmeans.fit(flat_weights)\n",
    "            quantized_flat_weights = kmeans.cluster_centers_[kmeans.predict(flat_weights)]\n",
    "            quantized_weights = quantized_flat_weights.reshape(weights.shape)\n",
    "            # Ustawianie kwantyzowanych wag\n",
    "            layer.set_weights([quantized_weights, biases])"
   ]
  },
  {
   "cell_type": "code",
   "execution_count": 34,
   "metadata": {},
   "outputs": [
    {
     "name": "stdout",
     "output_type": "stream",
     "text": [
      "(56000, 28, 28) (14000, 28, 28) (56000, 10) (14000, 10)\n",
      "Pula 0, kwantyzacja INT1\n",
      "Epoch 1/3\n",
      "1750/1750 [==============================] - 5s 3ms/step - loss: 0.5225 - accuracy: 0.8638 - val_loss: 0.3271 - val_accuracy: 0.9049\n",
      "Epoch 2/3\n",
      "1750/1750 [==============================] - 5s 3ms/step - loss: 0.3116 - accuracy: 0.9076 - val_loss: 0.2915 - val_accuracy: 0.9146\n",
      "Epoch 3/3\n",
      "1750/1750 [==============================] - 4s 3ms/step - loss: 0.2911 - accuracy: 0.9123 - val_loss: 0.2650 - val_accuracy: 0.9209\n",
      "438/438 [==============================] - 1s 1ms/step - loss: 0.7503 - accuracy: 0.7605\n",
      "Pula 0, kwantyzacja INT2\n",
      "Epoch 1/3\n",
      "1750/1750 [==============================] - 5s 3ms/step - loss: 0.3056 - accuracy: 0.9098 - val_loss: 0.2709 - val_accuracy: 0.9186\n",
      "Epoch 2/3\n",
      "1750/1750 [==============================] - 5s 3ms/step - loss: 0.2894 - accuracy: 0.9115 - val_loss: 0.2592 - val_accuracy: 0.9216\n",
      "Epoch 3/3\n",
      "1749/1750 [============================>.] - ETA: 0s - loss: 0.2658 - accuracy: 0.9165"
     ]
    }
   ],
   "source": [
    "from sklearn.model_selection import train_test_split\n",
    "acc = np.zeros((8, 5))\n",
    "for j in range(0, 5):\n",
    "    X_full = np.concatenate((X_train, X_test))\n",
    "    y_full = np.concatenate((y_train, y_test))\n",
    "\n",
    "    X_train, X_test, y_train, y_test = train_test_split(X_full, y_full, test_size=0.2)\n",
    "    print(X_train.shape, X_test.shape, y_train.shape, y_test.shape)\n",
    "    model = Sequential([\n",
    "        Flatten(input_shape=(28, 28)),\n",
    "        Dense(200, activation='sigmoid'),\n",
    "        Dense(80, activation='sigmoid'),\n",
    "        Dense(10, activation='sigmoid')\n",
    "    ])\n",
    "\n",
    "    for i in range(0, 8):\n",
    "        print(f\"Pula {j+1}, kwantyzacja INT{i+1}\")\n",
    "        q_model = model\n",
    "        q_model.compile(optimizer='adam', loss='categorical_crossentropy', metrics=['accuracy'])\n",
    "        q_model.fit(X_train, y_train, epochs=5, validation_data=(X_test, y_test))\n",
    "        quantize_weights(q_model, 2**(i+1))\n",
    "        acc[i, j] = q_model.evaluate(X_test, y_test)[1]\n",
    "        "
   ]
  },
  {
   "cell_type": "code",
   "execution_count": null,
   "metadata": {},
   "outputs": [],
   "source": []
  }
 ],
 "metadata": {
  "kernelspec": {
   "display_name": "Python 3",
   "language": "python",
   "name": "python3"
  },
  "language_info": {
   "codemirror_mode": {
    "name": "ipython",
    "version": 3
   },
   "file_extension": ".py",
   "mimetype": "text/x-python",
   "name": "python",
   "nbconvert_exporter": "python",
   "pygments_lexer": "ipython3",
   "version": "3.10.12"
  }
 },
 "nbformat": 4,
 "nbformat_minor": 2
}
