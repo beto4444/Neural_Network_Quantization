{
 "cells": [
  {
   "cell_type": "code",
   "execution_count": 1,
   "metadata": {},
   "outputs": [
    {
     "name": "stderr",
     "output_type": "stream",
     "text": [
      "2024-02-21 00:15:11.605894: I tensorflow/core/platform/cpu_feature_guard.cc:182] This TensorFlow binary is optimized to use available CPU instructions in performance-critical operations.\n",
      "To enable the following instructions: AVX2 FMA, in other operations, rebuild TensorFlow with the appropriate compiler flags.\n"
     ]
    }
   ],
   "source": [
    "from tensorflow.keras.models import Sequential\n",
    "from tensorflow.keras.layers import Flatten, Dense\n",
    "from tensorflow.keras.layers import Conv2D, Input\n",
    "from qkeras import QConv2D, QDense, QActivation, quantized_bits"
   ]
  },
  {
   "cell_type": "code",
   "execution_count": 6,
   "metadata": {},
   "outputs": [
    {
     "ename": "ModuleNotFoundError",
     "evalue": "No module named 'tensorflow_datasets'",
     "output_type": "error",
     "traceback": [
      "\u001b[0;31m---------------------------------------------------------------------------\u001b[0m",
      "\u001b[0;31mModuleNotFoundError\u001b[0m                       Traceback (most recent call last)",
      "Cell \u001b[0;32mIn[6], line 1\u001b[0m\n\u001b[0;32m----> 1\u001b[0m \u001b[38;5;28;01mimport\u001b[39;00m \u001b[38;5;21;01mtensorflow_datasets\u001b[39;00m \u001b[38;5;28;01mas\u001b[39;00m \u001b[38;5;21;01mtfds\u001b[39;00m\n\u001b[1;32m      3\u001b[0m \u001b[38;5;66;03m# Pobieranie datasetu Cats vs Dogs\u001b[39;00m\n\u001b[1;32m      4\u001b[0m ds, info \u001b[38;5;241m=\u001b[39m tfds\u001b[38;5;241m.\u001b[39mload(\u001b[38;5;124m'\u001b[39m\u001b[38;5;124mcats_vs_dogs\u001b[39m\u001b[38;5;124m'\u001b[39m, with_info\u001b[38;5;241m=\u001b[39m\u001b[38;5;28;01mTrue\u001b[39;00m, as_supervised\u001b[38;5;241m=\u001b[39m\u001b[38;5;28;01mTrue\u001b[39;00m)\n",
      "\u001b[0;31mModuleNotFoundError\u001b[0m: No module named 'tensorflow_datasets'"
     ]
    }
   ],
   "source": [
    "import tensorflow_datasets as tfds\n",
    "\n",
    "# Pobieranie datasetu Cats vs Dogs\n",
    "ds, info = tfds.load('cats_vs_dogs', with_info=True, as_supervised=True)\n",
    "\n",
    "\n",
    "train_ds, test_ds = ds['train'], ds['test']\n",
    "\n",
    "train_ds = train_ds\n",
    "test_ds = test_ds"
   ]
  },
  {
   "cell_type": "code",
   "execution_count": 4,
   "metadata": {},
   "outputs": [],
   "source": [
    "model = Sequential([\n",
    "  # Pierwsza warstwa konwolucyjna\n",
    "  QConv2D(32, (3, 3), activation='relu', input_shape=(28, 28, 1),\n",
    "          kernel_quantizer=quantized_bits(8, 0, 1),\n",
    "          bias_quantizer=quantized_bits(8, 0, 1)),\n",
    "  # Druga warstwa konwolucyjna\n",
    "  QConv2D(64, (3, 3), activation='relu',\n",
    "          kernel_quantizer=quantized_bits(8, 0, 1),\n",
    "          bias_quantizer=quantized_bits(8, 0, 1)),\n",
    "  # Warstwa wypłaszczająca\n",
    "  Flatten(),\n",
    "  # Warstwa gęsta z funkcją aktywacji softmax\n",
    "  QDense(10, activation='softmax',\n",
    "         kernel_quantizer=quantized_bits(8, 0, 1),\n",
    "         bias_quantizer=quantized_bits(8, 0, 1))\n",
    "])"
   ]
  },
  {
   "cell_type": "code",
   "execution_count": 5,
   "metadata": {},
   "outputs": [],
   "source": [
    "model.compile(optimizer='adam',\n",
    "              loss='categorical_crossentropy',\n",
    "              metrics=['accuracy'])"
   ]
  },
  {
   "cell_type": "code",
   "execution_count": 7,
   "metadata": {},
   "outputs": [
    {
     "ename": "SyntaxError",
     "evalue": "invalid syntax. Perhaps you forgot a comma? (2127076605.py, line 18)",
     "output_type": "error",
     "traceback": [
      "\u001b[0;36m  Cell \u001b[0;32mIn[7], line 18\u001b[0;36m\u001b[0m\n\u001b[0;31m    QDense(10, activation='softmax',\u001b[0m\n\u001b[0m    ^\u001b[0m\n\u001b[0;31mSyntaxError\u001b[0m\u001b[0;31m:\u001b[0m invalid syntax. Perhaps you forgot a comma?\n"
     ]
    }
   ],
   "source": [
    "import numpy as np\n",
    "acc = np.zeros((8, 5))\n",
    "for j in range(0, 5):\n",
    "    for i in range(0, 8):\n",
    "        bits = (i+1)\n",
    "        model = Sequential([\n",
    "            # Pierwsza warstwa konwolucyjna\n",
    "            QConv2D(32, (3, 3), activation='relu', input_shape=(28, 28, 1),\n",
    "                    kernel_quantizer=quantized_bits(i, 0, 1),\n",
    "                    bias_quantizer=quantized_bits(i, 0, 1)),\n",
    "            # Druga warstwa konwolucyjna\n",
    "            QConv2D(64, (3, 3), activation='relu',\n",
    "                    kernel_quantizer=quantized_bits(i, 0, 1),\n",
    "                    bias_quantizer=quantized_bits(i, 0, 1)),\n",
    "            # Warstwa wypłaszczająca\n",
    "            Flatten(),\n",
    "            # Warstwa gęsta z funkcją aktywacji softmax\n",
    "            QDense(10, activation='softmax',\n",
    "                    kernel_quantizer=quantized_bits(i, 0, 1),\n",
    "                    bias_quantizer=quantized_bits(i, 0, 1))\n",
    "        ])\n",
    "\n",
    "        model.compile(optimizer='adam',\n",
    "                            loss='categorical_crossentropy',\n",
    "                            metrics=['accuracy'])\n",
    "        model.fit(train_ds, epochs=1)\n",
    "        acc[i, j] = model.evaluate(test_ds)[1]\n",
    "        \n",
    "])"
   ]
  }
 ],
 "metadata": {
  "kernelspec": {
   "display_name": "Python 3",
   "language": "python",
   "name": "python3"
  },
  "language_info": {
   "codemirror_mode": {
    "name": "ipython",
    "version": 3
   },
   "file_extension": ".py",
   "mimetype": "text/x-python",
   "name": "python",
   "nbconvert_exporter": "python",
   "pygments_lexer": "ipython3",
   "version": "3.10.12"
  }
 },
 "nbformat": 4,
 "nbformat_minor": 2
}
