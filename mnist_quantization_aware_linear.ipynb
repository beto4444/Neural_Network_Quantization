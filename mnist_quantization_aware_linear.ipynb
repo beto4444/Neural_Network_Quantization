{
 "cells": [
  {
   "cell_type": "code",
   "execution_count": 14,
   "metadata": {},
   "outputs": [],
   "source": [
    "import tensorflow as tf\n",
    "from tensorflow.keras.datasets import mnist\n",
    "from tensorflow.keras.layers import Flatten, Input\n",
    "from tensorflow.keras.models import Model\n",
    "from qkeras import QDense, QActivation, quantized_bits"
   ]
  },
  {
   "cell_type": "code",
   "execution_count": 15,
   "metadata": {},
   "outputs": [],
   "source": [
    "# Definicja modelu, wzór\n",
    "model = Sequential([\n",
    "    Flatten(input_shape=(28, 28)),\n",
    "    Dense(200, activation='sigmoid'),\n",
    "    Dense(80, activation='sigmoid'),\n",
    "    Dense(10, activation='sigmoid')\n",
    "])"
   ]
  },
  {
   "cell_type": "code",
   "execution_count": 16,
   "metadata": {},
   "outputs": [
    {
     "name": "stdout",
     "output_type": "stream",
     "text": [
      "Kształt X_train: (60000, 28, 28)\n",
      "Kształt y_train: (60000,)\n",
      "Kształt X_test: (10000, 28, 28)\n",
      "Kształt y_test: (10000,)\n"
     ]
    }
   ],
   "source": [
    "from tensorflow.keras.datasets import mnist\n",
    "\n",
    "# Pobieranie danych MNIST\n",
    "(X_train, y_train), (X_test, y_test) = mnist.load_data()\n",
    "\n",
    "\n",
    "# Sprawdzenie kształtów danych\n",
    "print(\"Kształt X_train:\", X_train.shape)\n",
    "print(\"Kształt y_train:\", y_train.shape)\n",
    "print(\"Kształt X_test:\", X_test.shape)\n",
    "print(\"Kształt y_test:\", y_test.shape)\n"
   ]
  },
  {
   "cell_type": "code",
   "execution_count": 17,
   "metadata": {},
   "outputs": [],
   "source": [
    "model = Sequential([\n",
    "    Flatten(input_shape=(28, 28)),\n",
    "    Dense(200, activation='sigmoid'),\n",
    "    Dense(80, activation='sigmoid'),\n",
    "    Dense(10, activation='sigmoid')\n",
    "])\n"
   ]
  },
  {
   "cell_type": "code",
   "execution_count": 18,
   "metadata": {},
   "outputs": [
    {
     "name": "stdout",
     "output_type": "stream",
     "text": [
      "Epoch 1/3\n",
      "1875/1875 [==============================] - 5s 3ms/step - loss: 0.5206 - accuracy: 0.8620 - val_loss: 0.3257 - val_accuracy: 0.9033\n",
      "Epoch 2/3\n",
      "1875/1875 [==============================] - 5s 2ms/step - loss: 0.3275 - accuracy: 0.9016 - val_loss: 0.2967 - val_accuracy: 0.9114\n",
      "Epoch 3/3\n",
      "1875/1875 [==============================] - 5s 2ms/step - loss: 0.2917 - accuracy: 0.9103 - val_loss: 0.2693 - val_accuracy: 0.9145\n"
     ]
    },
    {
     "data": {
      "text/plain": [
       "<keras.src.callbacks.History at 0x7f0bdc271780>"
      ]
     },
     "execution_count": 18,
     "metadata": {},
     "output_type": "execute_result"
    }
   ],
   "source": [
    "model.compile(optimizer='adam', loss='sparse_categorical_crossentropy', metrics=['accuracy'])\n",
    "model.fit(X_train, y_train, epochs=3, validation_data=(X_test, y_test))"
   ]
  },
  {
   "cell_type": "markdown",
   "metadata": {},
   "source": [
    "Analizujemy kolejne stopnie kwantyzacji, każdy po 5 razy żeby można było policzyć statystykę. Za każdym razem na nowo losujemy podział train_test_split"
   ]
  },
  {
   "cell_type": "code",
   "execution_count": 19,
   "metadata": {},
   "outputs": [
    {
     "ename": "TypeError",
     "evalue": "Exception encountered when calling layer \"q_activation_3\" (type QActivation).\n\nin user code:\n\n    File \"/home/bstepniewski/.local/lib/python3.10/site-packages/qkeras/qlayers.py\", line 177, in call  *\n        return self.quantizer(inputs)\n    File \"/home/bstepniewski/.local/lib/python3.10/site-packages/qkeras/quantizers.py\", line 1774, in __call__  *\n        m = K.cast_to_floatx(K.pow(2, self.bits))\n    File \"/home/bstepniewski/.local/lib/python3.10/site-packages/keras/src/backend.py\", line 3140, in pow\n        return tf.pow(x, a)\n\n    TypeError: Expected int32 passed to parameter 'y' of op 'Pow', got 'i' of type 'str' instead. Error: Expected int32, but got i of type 'str'.\n\n\nCall arguments received by layer \"q_activation_3\" (type QActivation):\n  • inputs=tf.Tensor(shape=(None, 200), dtype=float32)",
     "output_type": "error",
     "traceback": [
      "\u001b[0;31m---------------------------------------------------------------------------\u001b[0m",
      "\u001b[0;31mTypeError\u001b[0m                                 Traceback (most recent call last)",
      "Cell \u001b[0;32mIn[19], line 15\u001b[0m\n\u001b[1;32m     13\u001b[0m x \u001b[38;5;241m=\u001b[39m Flatten()(input_shape)\n\u001b[1;32m     14\u001b[0m x \u001b[38;5;241m=\u001b[39m QDense(\u001b[38;5;241m200\u001b[39m, kernel_quantizer\u001b[38;5;241m=\u001b[39mquantized_bits(i, \u001b[38;5;241m0\u001b[39m, \u001b[38;5;241m1\u001b[39m), bias_quantizer\u001b[38;5;241m=\u001b[39mquantized_bits(i, \u001b[38;5;241m0\u001b[39m, \u001b[38;5;241m1\u001b[39m))(x)\n\u001b[0;32m---> 15\u001b[0m x \u001b[38;5;241m=\u001b[39m \u001b[43mQActivation\u001b[49m\u001b[43m(\u001b[49m\u001b[38;5;124;43m\"\u001b[39;49m\u001b[38;5;124;43mquantized_sigmoid(\u001b[39;49m\u001b[38;5;132;43;01m{i}\u001b[39;49;00m\u001b[38;5;124;43m)\u001b[39;49m\u001b[38;5;124;43m\"\u001b[39;49m\u001b[43m)\u001b[49m\u001b[43m(\u001b[49m\u001b[43mx\u001b[49m\u001b[43m)\u001b[49m\n\u001b[1;32m     16\u001b[0m x \u001b[38;5;241m=\u001b[39m QDense(\u001b[38;5;241m80\u001b[39m, kernel_quantizer\u001b[38;5;241m=\u001b[39mquantized_bits(i, \u001b[38;5;241m0\u001b[39m, \u001b[38;5;241m1\u001b[39m), bias_quantizer\u001b[38;5;241m=\u001b[39mquantized_bits(i, \u001b[38;5;241m0\u001b[39m, \u001b[38;5;241m1\u001b[39m))(x)\n\u001b[1;32m     17\u001b[0m x \u001b[38;5;241m=\u001b[39m QActivation(\u001b[38;5;124m\"\u001b[39m\u001b[38;5;124mquantized_sigmoid(\u001b[39m\u001b[38;5;132;01m{i}\u001b[39;00m\u001b[38;5;124m)\u001b[39m\u001b[38;5;124m\"\u001b[39m)(x)\n",
      "File \u001b[0;32m~/.local/lib/python3.10/site-packages/keras/src/utils/traceback_utils.py:70\u001b[0m, in \u001b[0;36mfilter_traceback.<locals>.error_handler\u001b[0;34m(*args, **kwargs)\u001b[0m\n\u001b[1;32m     67\u001b[0m     filtered_tb \u001b[38;5;241m=\u001b[39m _process_traceback_frames(e\u001b[38;5;241m.\u001b[39m__traceback__)\n\u001b[1;32m     68\u001b[0m     \u001b[38;5;66;03m# To get the full stack trace, call:\u001b[39;00m\n\u001b[1;32m     69\u001b[0m     \u001b[38;5;66;03m# `tf.debugging.disable_traceback_filtering()`\u001b[39;00m\n\u001b[0;32m---> 70\u001b[0m     \u001b[38;5;28;01mraise\u001b[39;00m e\u001b[38;5;241m.\u001b[39mwith_traceback(filtered_tb) \u001b[38;5;28;01mfrom\u001b[39;00m \u001b[38;5;28;01mNone\u001b[39;00m\n\u001b[1;32m     71\u001b[0m \u001b[38;5;28;01mfinally\u001b[39;00m:\n\u001b[1;32m     72\u001b[0m     \u001b[38;5;28;01mdel\u001b[39;00m filtered_tb\n",
      "File \u001b[0;32m/tmp/__autograph_generated_fileox2ocffr.py:13\u001b[0m, in \u001b[0;36mouter_factory.<locals>.inner_factory.<locals>.tf__call\u001b[0;34m(self, inputs)\u001b[0m\n\u001b[1;32m     11\u001b[0m \u001b[38;5;28;01mtry\u001b[39;00m:\n\u001b[1;32m     12\u001b[0m     do_return \u001b[38;5;241m=\u001b[39m \u001b[38;5;28;01mTrue\u001b[39;00m\n\u001b[0;32m---> 13\u001b[0m     retval_ \u001b[38;5;241m=\u001b[39m ag__\u001b[38;5;241m.\u001b[39mconverted_call(ag__\u001b[38;5;241m.\u001b[39mld(\u001b[38;5;28mself\u001b[39m)\u001b[38;5;241m.\u001b[39mquantizer, (ag__\u001b[38;5;241m.\u001b[39mld(inputs),), \u001b[38;5;28;01mNone\u001b[39;00m, fscope)\n\u001b[1;32m     14\u001b[0m \u001b[38;5;28;01mexcept\u001b[39;00m:\n\u001b[1;32m     15\u001b[0m     do_return \u001b[38;5;241m=\u001b[39m \u001b[38;5;28;01mFalse\u001b[39;00m\n",
      "File \u001b[0;32m/tmp/__autograph_generated_file_t52y_cn.py:12\u001b[0m, in \u001b[0;36mouter_factory.<locals>.inner_factory.<locals>.tf____call__\u001b[0;34m(self, x)\u001b[0m\n\u001b[1;32m     10\u001b[0m retval_ \u001b[38;5;241m=\u001b[39m ag__\u001b[38;5;241m.\u001b[39mUndefinedReturnValue()\n\u001b[1;32m     11\u001b[0m x \u001b[38;5;241m=\u001b[39m ag__\u001b[38;5;241m.\u001b[39mconverted_call(ag__\u001b[38;5;241m.\u001b[39mld(K)\u001b[38;5;241m.\u001b[39mcast_to_floatx, (ag__\u001b[38;5;241m.\u001b[39mld(x),), \u001b[38;5;28;01mNone\u001b[39;00m, fscope)\n\u001b[0;32m---> 12\u001b[0m m \u001b[38;5;241m=\u001b[39m ag__\u001b[38;5;241m.\u001b[39mconverted_call(ag__\u001b[38;5;241m.\u001b[39mld(K)\u001b[38;5;241m.\u001b[39mcast_to_floatx, (\u001b[43mag__\u001b[49m\u001b[38;5;241;43m.\u001b[39;49m\u001b[43mconverted_call\u001b[49m\u001b[43m(\u001b[49m\u001b[43mag__\u001b[49m\u001b[38;5;241;43m.\u001b[39;49m\u001b[43mld\u001b[49m\u001b[43m(\u001b[49m\u001b[43mK\u001b[49m\u001b[43m)\u001b[49m\u001b[38;5;241;43m.\u001b[39;49m\u001b[43mpow\u001b[49m\u001b[43m,\u001b[49m\u001b[43m \u001b[49m\u001b[43m(\u001b[49m\u001b[38;5;241;43m2\u001b[39;49m\u001b[43m,\u001b[49m\u001b[43m \u001b[49m\u001b[43mag__\u001b[49m\u001b[38;5;241;43m.\u001b[39;49m\u001b[43mld\u001b[49m\u001b[43m(\u001b[49m\u001b[38;5;28;43mself\u001b[39;49m\u001b[43m)\u001b[49m\u001b[38;5;241;43m.\u001b[39;49m\u001b[43mbits\u001b[49m\u001b[43m)\u001b[49m\u001b[43m,\u001b[49m\u001b[43m \u001b[49m\u001b[38;5;28;43;01mNone\u001b[39;49;00m\u001b[43m,\u001b[49m\u001b[43m \u001b[49m\u001b[43mfscope\u001b[49m\u001b[43m)\u001b[49m,), \u001b[38;5;28;01mNone\u001b[39;00m, fscope)\n\u001b[1;32m     13\u001b[0m p \u001b[38;5;241m=\u001b[39m ag__\u001b[38;5;241m.\u001b[39mif_exp(ag__\u001b[38;5;241m.\u001b[39mld(\u001b[38;5;28mself\u001b[39m)\u001b[38;5;241m.\u001b[39muse_real_sigmoid, \u001b[38;5;28;01mlambda\u001b[39;00m : ag__\u001b[38;5;241m.\u001b[39mconverted_call(ag__\u001b[38;5;241m.\u001b[39mld(K)\u001b[38;5;241m.\u001b[39msigmoid, (ag__\u001b[38;5;241m.\u001b[39mld(x),), \u001b[38;5;28;01mNone\u001b[39;00m, fscope), \u001b[38;5;28;01mlambda\u001b[39;00m : ag__\u001b[38;5;241m.\u001b[39mconverted_call(ag__\u001b[38;5;241m.\u001b[39mld(_sigmoid), (ag__\u001b[38;5;241m.\u001b[39mld(x),), \u001b[38;5;28;01mNone\u001b[39;00m, fscope), \u001b[38;5;124m'\u001b[39m\u001b[38;5;124mself.use_real_sigmoid\u001b[39m\u001b[38;5;124m'\u001b[39m)\n\u001b[1;32m     14\u001b[0m \u001b[38;5;28;01mtry\u001b[39;00m:\n",
      "\u001b[0;31mTypeError\u001b[0m: Exception encountered when calling layer \"q_activation_3\" (type QActivation).\n\nin user code:\n\n    File \"/home/bstepniewski/.local/lib/python3.10/site-packages/qkeras/qlayers.py\", line 177, in call  *\n        return self.quantizer(inputs)\n    File \"/home/bstepniewski/.local/lib/python3.10/site-packages/qkeras/quantizers.py\", line 1774, in __call__  *\n        m = K.cast_to_floatx(K.pow(2, self.bits))\n    File \"/home/bstepniewski/.local/lib/python3.10/site-packages/keras/src/backend.py\", line 3140, in pow\n        return tf.pow(x, a)\n\n    TypeError: Expected int32 passed to parameter 'y' of op 'Pow', got 'i' of type 'str' instead. Error: Expected int32, but got i of type 'str'.\n\n\nCall arguments received by layer \"q_activation_3\" (type QActivation):\n  • inputs=tf.Tensor(shape=(None, 200), dtype=float32)"
     ]
    }
   ],
   "source": [
    "import numpy as np\n",
    "from sklearn.model_selection import train_test_split\n",
    "acc = np.zeros((8, 5))\n",
    "for j in range(0, 5):\n",
    "    #robimy tak bo zbiór z tensorflow jest domyślnie podzielony na test i train, a my chcemy to podzielić losowo\n",
    "    X_full = np.concatenate((X_train, X_test))\n",
    "    y_full = np.concatenate((y_train, y_test))\n",
    "\n",
    "    X_train, X_test, y_train, y_test = train_test_split(X_full, y_full, test_size=0.2)\n",
    "    for i in range (1, 9):\n",
    "        q_bits = i\n",
    "        input_shape = Input(shape=(28, 28))\n",
    "        x = Flatten()(input_shape)\n",
    "        x = QDense(200, kernel_quantizer=quantized_bits(i, 0, 1), bias_quantizer=quantized_bits(i, 0, 1))(x)\n",
    "        x = QActivation(\"quantized_sigmoid({})\".format(i))(x)\n",
    "        x = QDense(80, kernel_quantizer=quantized_bits(i, 0, 1), bias_quantizer=quantized_bits(i, 0, 1))(x)\n",
    "        x = QActivation(\"quantized_sigmoid({})\".format(i))(x)\n",
    "        x = QDense(10, kernel_quantizer=quantized_bits(i, 0, 1), bias_quantizer=quantized_bits(i, 0, 1))(x)\n",
    "        x = QActivation(\"quantized_sigmoid({}\".format(i))(x)\n",
    "        q_model = Model(inputs=input_shape, outputs=x)\n",
    "\n",
    "        q_model.compile(optimizer='adam', loss='sparse_categorical_crossentropy', metrics=['accuracy'])\n",
    "        q_model.fit(X_train, y_train, epochs=3, validation_data=(X_test, y_test))\n",
    "        acc[i-1, j] = q_model.evaluate(X_test, y_test, verbose=0)[1]\n",
    "        print(acc[i-1, j])"
   ]
  },
  {
   "cell_type": "code",
   "execution_count": null,
   "metadata": {},
   "outputs": [],
   "source": []
  }
 ],
 "metadata": {
  "kernelspec": {
   "display_name": "Python 3",
   "language": "python",
   "name": "python3"
  },
  "language_info": {
   "codemirror_mode": {
    "name": "ipython",
    "version": 3
   },
   "file_extension": ".py",
   "mimetype": "text/x-python",
   "name": "python",
   "nbconvert_exporter": "python",
   "pygments_lexer": "ipython3",
   "version": "3.10.12"
  }
 },
 "nbformat": 4,
 "nbformat_minor": 2
}
